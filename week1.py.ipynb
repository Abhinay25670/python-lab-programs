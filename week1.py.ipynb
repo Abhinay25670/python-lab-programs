{
 "cells": [
  {
   "cell_type": "code",
   "execution_count": 2,
   "id": "262fb3f4",
   "metadata": {},
   "outputs": [
    {
     "name": "stdout",
     "output_type": "stream",
     "text": [
      "hello\n"
     ]
    }
   ],
   "source": [
    "print(\"hello\")"
   ]
  },
  {
   "cell_type": "markdown",
   "id": "409fe1d6",
   "metadata": {},
   "source": [
    "# programing\n",
    "week1"
   ]
  },
  {
   "cell_type": "markdown",
   "id": "d58f8060",
   "metadata": {},
   "source": [
    "## program\n",
    "week1\n"
   ]
  },
  {
   "cell_type": "markdown",
   "id": "8cf3e4c8",
   "metadata": {},
   "source": [
    "pythonprogram"
   ]
  },
  {
   "cell_type": "code",
   "execution_count": 3,
   "id": "f136eb7e",
   "metadata": {},
   "outputs": [
    {
     "name": "stdout",
     "output_type": "stream",
     "text": [
      "enter a number : 23\n"
     ]
    }
   ],
   "source": [
    "o=(int)(input(\"enter a number : \"))"
   ]
  },
  {
   "cell_type": "code",
   "execution_count": 4,
   "id": "ced25f05",
   "metadata": {},
   "outputs": [
    {
     "name": "stdout",
     "output_type": "stream",
     "text": [
      "enter a number : 25\n"
     ]
    }
   ],
   "source": [
    "r=(int)(input(\"enter a number : \"))"
   ]
  },
  {
   "cell_type": "code",
   "execution_count": 8,
   "id": "d888500a",
   "metadata": {},
   "outputs": [
    {
     "name": "stdout",
     "output_type": "stream",
     "text": [
      "Enter a number : 6\n",
      "720\n"
     ]
    }
   ],
   "source": [
    "n=(int)(input(\"Enter a number : \"))\n",
    "fact=1\n",
    "i=1\n",
    "for i in range(1,n+1):\n",
    "    fact*=i\n",
    "print(fact)"
   ]
  },
  {
   "cell_type": "code",
   "execution_count": 13,
   "id": "e3bd79fc",
   "metadata": {},
   "outputs": [
    {
     "name": "stdout",
     "output_type": "stream",
     "text": [
      "Enter a number : 12\n",
      "3\n"
     ]
    }
   ],
   "source": [
    "num=(int)(input(\"Enter a number : \"))\n",
    "sum=0\n",
    "rem=1\n",
    "while num>0:\n",
    "    rem=num%10\n",
    "    sum=sum+rem\n",
    "    num=num//10\n",
    "print(sum)    "
   ]
  },
  {
   "cell_type": "code",
   "execution_count": null,
   "id": "191e90ce",
   "metadata": {},
   "outputs": [],
   "source": []
  }
 ],
 "metadata": {
  "kernelspec": {
   "display_name": "Python 3 (ipykernel)",
   "language": "python",
   "name": "python3"
  },
  "language_info": {
   "codemirror_mode": {
    "name": "ipython",
    "version": 3
   },
   "file_extension": ".py",
   "mimetype": "text/x-python",
   "name": "python",
   "nbconvert_exporter": "python",
   "pygments_lexer": "ipython3",
   "version": "3.11.5"
  }
 },
 "nbformat": 4,
 "nbformat_minor": 5
}
